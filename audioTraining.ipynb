{
 "cells": [
  {
   "cell_type": "markdown",
   "metadata": {},
   "source": [
    "## LOAD\n"
   ]
  },
  {
   "cell_type": "code",
   "execution_count": null,
   "metadata": {},
   "outputs": [],
   "source": [
    "import os\n",
    "import numpy as np\n",
    "import librosa\n",
    "import tensorflow as tf\n",
    "from tensorflow.keras.layers import Input, Conv2D, MaxPooling2D, Flatten, Dense, Dropout, BatchNormalization, LSTM, Reshape, TimeDistributed\n",
    "from tensorflow.keras.models import Model\n",
    "from tensorflow.keras.utils import to_categorical\n",
    "from tensorflow.keras.regularizers import l2\n",
    "from tensorflow.keras.callbacks import EarlyStopping, ReduceLROnPlateau\n",
    "from sklearn.utils import class_weight\n",
    "from joblib import Parallel, delayed  # 🔥 For multiprocessing"
   ]
  },
  {
   "cell_type": "code",
   "execution_count": null,
   "metadata": {},
   "outputs": [],
   "source": [
    "# Enable mixed precision (Faster Training)\n",
    "tf.keras.mixed_precision.set_global_policy(\"mixed_float16\")\n",
    "\n",
    "# Define paths and parameters\n",
    "DATASET_PATH = \"path\"\n",
    "NUM_CLASSES = 2\n",
    "SAMPLE_RATE = 16000\n",
    "DURATION = 5\n",
    "N_MELS = 64  # 🔥 Reduced for speed\n",
    "MAX_TIME_STEPS = 109"
   ]
  },
  {
   "cell_type": "code",
   "execution_count": null,
   "metadata": {},
   "outputs": [],
   "source": [
    "# Ensure dataset folders exist\n",
    "for class_name in [\"real\", \"fake\"]:\n",
    "    class_path = os.path.join(DATASET_PATH, class_name)\n",
    "    if not os.path.exists(class_path):\n",
    "        raise FileNotFoundError(f\"Missing folder: {class_path}\")\n",
    "\n",
    "# Audio augmentation function\n",
    "def augment_audio(audio, sr=SAMPLE_RATE):\n",
    "    rate = np.random.uniform(0.9, 1.1)\n",
    "    audio = librosa.effects.time_stretch(audio, rate=rate)\n",
    "    n_steps = np.random.randint(-3, 3)\n",
    "    audio = librosa.effects.pitch_shift(audio, sr=sr, n_steps=n_steps)\n",
    "    noise_amplitude = np.random.uniform(0.001, 0.005)\n",
    "    noise = np.random.randn(len(audio)) * noise_amplitude\n",
    "    return audio + noise\n",
    "\n",
    "# Function to process a single file\n",
    "def process_file(file_path, label):\n",
    "    try:\n",
    "        audio, _ = librosa.load(file_path, sr=SAMPLE_RATE, duration=DURATION)\n",
    "        if np.random.rand() > 0.5:\n",
    "            audio = augment_audio(audio)\n",
    "\n",
    "        mel_spectrogram = librosa.feature.melspectrogram(y=audio, sr=SAMPLE_RATE, n_mels=N_MELS)\n",
    "        mel_spectrogram = librosa.power_to_db(mel_spectrogram, ref=np.max)\n",
    "\n",
    "        # Ensure fixed size\n",
    "        if mel_spectrogram.shape[1] < MAX_TIME_STEPS:\n",
    "            mel_spectrogram = np.pad(mel_spectrogram, ((0, 0), (0, MAX_TIME_STEPS - mel_spectrogram.shape[1])), mode='constant')\n",
    "        else:\n",
    "            mel_spectrogram = mel_spectrogram[:, :MAX_TIME_STEPS]\n",
    "\n",
    "        return mel_spectrogram, label\n",
    "    except Exception as e:\n",
    "        print(f\"❌ Error loading {file_path}: {e}\")\n",
    "        return None"
   ]
  },
  {
   "cell_type": "code",
   "execution_count": null,
   "metadata": {},
   "outputs": [],
   "source": [
    "# Load dataset using multiprocessing\n",
    "X, y = [], []\n",
    "all_files = []\n",
    "\n",
    "for label, class_name in enumerate([\"real\", \"fake\"]):\n",
    "    class_path = os.path.join(DATASET_PATH, class_name)\n",
    "    all_files.extend([(os.path.join(class_path, f), label) for f in os.listdir(class_path) if f.endswith(('.mp3', '.wav'))])\n",
    "\n",
    "results = Parallel(n_jobs=-1)(delayed(process_file)(fp, lbl) for fp, lbl in all_files)\n",
    "\n",
    "# Filter out None values\n",
    "X, y = zip(*[res for res in results if res is not None])"
   ]
  },
  {
   "cell_type": "code",
   "execution_count": null,
   "metadata": {},
   "outputs": [],
   "source": [
    "# Convert to NumPy arrays\n",
    "X = np.array(X)\n",
    "y = np.array(y)"
   ]
  },
  {
   "cell_type": "code",
   "execution_count": null,
   "metadata": {},
   "outputs": [],
   "source": [
    "import numpy as np\n",
    "\n",
    "# Save features and labels\n",
    "np.save('X.npy', X)\n",
    "np.save('y.npy', y)"
   ]
  },
  {
   "cell_type": "code",
   "execution_count": 1,
   "metadata": {
    "trusted": true
   },
   "outputs": [],
   "source": [
    "import numpy as np\n",
    "\n",
    "# Load the preprocessed data\n",
    "X = np.load('X.npy')\n",
    "y = np.load('y.npy')\n",
    "NUM_CLASSES = 2\n",
    "\n",
    "# Ensure y is one-hot encoded\n",
    "from tensorflow.keras.utils import to_categorical\n",
    "y = to_categorical(y, NUM_CLASSES)"
   ]
  },
  {
   "cell_type": "code",
   "execution_count": 2,
   "metadata": {},
   "outputs": [
    {
     "name": "stdout",
     "output_type": "stream",
     "text": [
      "Training data: X_train=(139399, 64, 109), y_train=(139399, 2)\n",
      "Validation data: X_val=(17425, 64, 109), y_val=(17425, 2)\n",
      "Testing data: X_test=(17425, 64, 109), y_test=(17425, 2)\n"
     ]
    }
   ],
   "source": [
    "from sklearn.model_selection import train_test_split\n",
    "\n",
    "# First split: 80% training, 20% temporary (for validation and testing)\n",
    "X_train, X_temp, y_train, y_temp = train_test_split(X, y, test_size=0.2, random_state=42)\n",
    "\n",
    "# Second split: 10% validation, 10% testing\n",
    "X_val, X_test, y_val, y_test = train_test_split(X_temp, y_temp, test_size=0.5, random_state=42)\n",
    "\n",
    "# Print the shapes to verify the splits\n",
    "print(f\"Training data: X_train={X_train.shape}, y_train={y_train.shape}\")\n",
    "print(f\"Validation data: X_val={X_val.shape}, y_val={y_val.shape}\")\n",
    "print(f\"Testing data: X_test={X_test.shape}, y_test={y_test.shape}\")"
   ]
  },
  {
   "cell_type": "code",
   "execution_count": 7,
   "metadata": {},
   "outputs": [
    {
     "name": "stdout",
     "output_type": "stream",
     "text": [
      "Epoch 1/20\n",
      "\u001b[1m4357/4357\u001b[0m \u001b[32m━━━━━━━━━━━━━━━━━━━━\u001b[0m\u001b[37m\u001b[0m \u001b[1m1023s\u001b[0m 232ms/step - accuracy: 0.8253 - loss: 0.6373 - val_accuracy: 0.8855 - val_loss: 0.3631 - learning_rate: 0.0010\n",
      "Epoch 2/20\n",
      "\u001b[1m4357/4357\u001b[0m \u001b[32m━━━━━━━━━━━━━━━━━━━━\u001b[0m\u001b[37m\u001b[0m \u001b[1m1005s\u001b[0m 231ms/step - accuracy: 0.9457 - loss: 0.1528 - val_accuracy: 0.8611 - val_loss: 0.3778 - learning_rate: 0.0010\n",
      "Epoch 3/20\n",
      "\u001b[1m4357/4357\u001b[0m \u001b[32m━━━━━━━━━━━━━━━━━━━━\u001b[0m\u001b[37m\u001b[0m \u001b[1m899s\u001b[0m 206ms/step - accuracy: 0.9526 - loss: 0.1360 - val_accuracy: 0.9189 - val_loss: 0.2149 - learning_rate: 0.0010\n",
      "Epoch 4/20\n",
      "\u001b[1m4357/4357\u001b[0m \u001b[32m━━━━━━━━━━━━━━━━━━━━\u001b[0m\u001b[37m\u001b[0m \u001b[1m740s\u001b[0m 170ms/step - accuracy: 0.9586 - loss: 0.1212 - val_accuracy: 0.8929 - val_loss: 0.2829 - learning_rate: 0.0010\n",
      "Epoch 5/20\n",
      "\u001b[1m4357/4357\u001b[0m \u001b[32m━━━━━━━━━━━━━━━━━━━━\u001b[0m\u001b[37m\u001b[0m \u001b[1m725s\u001b[0m 166ms/step - accuracy: 0.9613 - loss: 0.1137 - val_accuracy: 0.9481 - val_loss: 0.1557 - learning_rate: 0.0010\n",
      "Epoch 6/20\n",
      "\u001b[1m4357/4357\u001b[0m \u001b[32m━━━━━━━━━━━━━━━━━━━━\u001b[0m\u001b[37m\u001b[0m \u001b[1m715s\u001b[0m 164ms/step - accuracy: 0.9575 - loss: 0.1227 - val_accuracy: 0.8900 - val_loss: 0.2899 - learning_rate: 0.0010\n",
      "Epoch 7/20\n",
      "\u001b[1m4357/4357\u001b[0m \u001b[32m━━━━━━━━━━━━━━━━━━━━\u001b[0m\u001b[37m\u001b[0m \u001b[1m717s\u001b[0m 165ms/step - accuracy: 0.9590 - loss: 0.1204 - val_accuracy: 0.9172 - val_loss: 0.2226 - learning_rate: 0.0010\n",
      "Epoch 8/20\n",
      "\u001b[1m4357/4357\u001b[0m \u001b[32m━━━━━━━━━━━━━━━━━━━━\u001b[0m\u001b[37m\u001b[0m \u001b[1m695s\u001b[0m 160ms/step - accuracy: 0.9625 - loss: 0.1114 - val_accuracy: 0.9113 - val_loss: 0.2551 - learning_rate: 0.0010\n",
      "Epoch 9/20\n",
      "\u001b[1m4357/4357\u001b[0m \u001b[32m━━━━━━━━━━━━━━━━━━━━\u001b[0m\u001b[37m\u001b[0m \u001b[1m708s\u001b[0m 162ms/step - accuracy: 0.9737 - loss: 0.0798 - val_accuracy: 0.9771 - val_loss: 0.0642 - learning_rate: 2.0000e-04\n",
      "Epoch 10/20\n",
      "\u001b[1m4357/4357\u001b[0m \u001b[32m━━━━━━━━━━━━━━━━━━━━\u001b[0m\u001b[37m\u001b[0m \u001b[1m688s\u001b[0m 158ms/step - accuracy: 0.9794 - loss: 0.0640 - val_accuracy: 0.9726 - val_loss: 0.0789 - learning_rate: 2.0000e-04\n",
      "Epoch 11/20\n",
      "\u001b[1m4357/4357\u001b[0m \u001b[32m━━━━━━━━━━━━━━━━━━━━\u001b[0m\u001b[37m\u001b[0m \u001b[1m716s\u001b[0m 164ms/step - accuracy: 0.9813 - loss: 0.0566 - val_accuracy: 0.9625 - val_loss: 0.1099 - learning_rate: 2.0000e-04\n",
      "Epoch 12/20\n",
      "\u001b[1m4357/4357\u001b[0m \u001b[32m━━━━━━━━━━━━━━━━━━━━\u001b[0m\u001b[37m\u001b[0m \u001b[1m706s\u001b[0m 162ms/step - accuracy: 0.9820 - loss: 0.0551 - val_accuracy: 0.9830 - val_loss: 0.0506 - learning_rate: 2.0000e-04\n",
      "Epoch 13/20\n",
      "\u001b[1m4357/4357\u001b[0m \u001b[32m━━━━━━━━━━━━━━━━━━━━\u001b[0m\u001b[37m\u001b[0m \u001b[1m674s\u001b[0m 155ms/step - accuracy: 0.9839 - loss: 0.0510 - val_accuracy: 0.9829 - val_loss: 0.0511 - learning_rate: 2.0000e-04\n",
      "Epoch 14/20\n",
      "\u001b[1m4357/4357\u001b[0m \u001b[32m━━━━━━━━━━━━━━━━━━━━\u001b[0m\u001b[37m\u001b[0m \u001b[1m656s\u001b[0m 150ms/step - accuracy: 0.9838 - loss: 0.0502 - val_accuracy: 0.9838 - val_loss: 0.0473 - learning_rate: 2.0000e-04\n",
      "Epoch 15/20\n",
      "\u001b[1m4357/4357\u001b[0m \u001b[32m━━━━━━━━━━━━━━━━━━━━\u001b[0m\u001b[37m\u001b[0m \u001b[1m656s\u001b[0m 151ms/step - accuracy: 0.9851 - loss: 0.0459 - val_accuracy: 0.9820 - val_loss: 0.0550 - learning_rate: 2.0000e-04\n",
      "Epoch 16/20\n",
      "\u001b[1m4357/4357\u001b[0m \u001b[32m━━━━━━━━━━━━━━━━━━━━\u001b[0m\u001b[37m\u001b[0m \u001b[1m652s\u001b[0m 150ms/step - accuracy: 0.9855 - loss: 0.0443 - val_accuracy: 0.9802 - val_loss: 0.0572 - learning_rate: 2.0000e-04\n",
      "Epoch 17/20\n",
      "\u001b[1m4357/4357\u001b[0m \u001b[32m━━━━━━━━━━━━━━━━━━━━\u001b[0m\u001b[37m\u001b[0m \u001b[1m653s\u001b[0m 150ms/step - accuracy: 0.9864 - loss: 0.0424 - val_accuracy: 0.9820 - val_loss: 0.0512 - learning_rate: 2.0000e-04\n",
      "Epoch 18/20\n",
      "\u001b[1m4357/4357\u001b[0m \u001b[32m━━━━━━━━━━━━━━━━━━━━\u001b[0m\u001b[37m\u001b[0m \u001b[1m661s\u001b[0m 152ms/step - accuracy: 0.9881 - loss: 0.0377 - val_accuracy: 0.9853 - val_loss: 0.0424 - learning_rate: 4.0000e-05\n",
      "Epoch 19/20\n",
      "\u001b[1m4357/4357\u001b[0m \u001b[32m━━━━━━━━━━━━━━━━━━━━\u001b[0m\u001b[37m\u001b[0m \u001b[1m654s\u001b[0m 150ms/step - accuracy: 0.9881 - loss: 0.0375 - val_accuracy: 0.9853 - val_loss: 0.0442 - learning_rate: 4.0000e-05\n",
      "Epoch 20/20\n",
      "\u001b[1m4357/4357\u001b[0m \u001b[32m━━━━━━━━━━━━━━━━━━━━\u001b[0m\u001b[37m\u001b[0m \u001b[1m645s\u001b[0m 148ms/step - accuracy: 0.9890 - loss: 0.0342 - val_accuracy: 0.9859 - val_loss: 0.0428 - learning_rate: 4.0000e-05\n"
     ]
    }
   ],
   "source": [
    "from tensorflow.keras.layers import Input\n",
    "# Fix CNN input shape\n",
    "input_shape = (X_train.shape[1], X_train.shape[2], 1)\n",
    "X_train = X_train.reshape(X_train.shape[0], *input_shape)\n",
    "X_val = X_val.reshape(X_val.shape[0], *input_shape)\n",
    "X_test = X_test.reshape(X_test.shape[0], *input_shape)\n",
    "# Define the model (same as before)\n",
    "model_input = Input(shape=input_shape)\n",
    "\n",
    "x = Conv2D(32, kernel_size=(3, 3), activation='relu')(model_input)\n",
    "x = BatchNormalization()(x)\n",
    "x = MaxPooling2D(pool_size=(2, 2))(x)\n",
    "\n",
    "x = Conv2D(64, kernel_size=(3, 3), activation='relu')(x)\n",
    "x = BatchNormalization()(x)\n",
    "x = MaxPooling2D(pool_size=(2, 2))(x)\n",
    "\n",
    "x = Conv2D(128, kernel_size=(3, 3), activation='relu')(x)\n",
    "x = BatchNormalization()(x)\n",
    "x = MaxPooling2D(pool_size=(2, 2))(x)\n",
    "\n",
    "x = Reshape((x.shape[1], -1))(x)\n",
    "x = TimeDistributed(Dense(64))(x)\n",
    "\n",
    "x = LSTM(64, return_sequences=False)(x)\n",
    "\n",
    "x = Dense(128, activation='relu', kernel_regularizer=l2(0.01))(x)\n",
    "x = BatchNormalization()(x)\n",
    "x = Dropout(0.5)(x)\n",
    "model_output = Dense(NUM_CLASSES, activation='softmax')(x)\n",
    "\n",
    "model = Model(inputs=model_input, outputs=model_output)\n",
    "\n",
    "model.compile(optimizer='adam', loss='categorical_crossentropy', metrics=['accuracy'])\n",
    "\n",
    "# Compute class weights\n",
    "class_weights = class_weight.compute_class_weight('balanced', classes=np.unique(np.argmax(y, axis=1)), y=np.argmax(y, axis=1))\n",
    "class_weights = dict(enumerate(class_weights))\n",
    "\n",
    "# Callbacks\n",
    "early_stopping = EarlyStopping(monitor='val_loss', patience=5, restore_best_weights=True)\n",
    "reduce_lr = ReduceLROnPlateau(monitor='val_loss', factor=0.2, patience=3, min_lr=1e-6)\n",
    "\n",
    "# Train model\n",
    "history = model.fit(X_train, y_train, batch_size=32, epochs=20, validation_data=(X_val, y_val), callbacks=[early_stopping, reduce_lr], class_weight=class_weights)"
   ]
  },
  {
   "cell_type": "code",
   "execution_count": 9,
   "metadata": {},
   "outputs": [],
   "source": [
    "# saving the model\n",
    "model.save(\"TESTSETAaudio_classifier.keras\")"
   ]
  },
  {
   "cell_type": "code",
   "execution_count": 10,
   "metadata": {},
   "outputs": [
    {
     "name": "stdout",
     "output_type": "stream",
     "text": [
      "\u001b[1m545/545\u001b[0m \u001b[32m━━━━━━━━━━━━━━━━━━━━\u001b[0m\u001b[37m\u001b[0m \u001b[1m17s\u001b[0m 31ms/step - accuracy: 0.9865 - loss: 0.0420\n",
      "Test Loss: 0.040972039103507996\n",
      "Test Accuracy: 0.986513614654541\n"
     ]
    }
   ],
   "source": [
    "# Evaluate the model on the test set\n",
    "test_loss, test_accuracy = model.evaluate(X_test, y_test)\n",
    "print(f\"Test Loss: {test_loss}\")\n",
    "print(f\"Test Accuracy: {test_accuracy}\")"
   ]
  },
  {
   "cell_type": "code",
   "execution_count": 17,
   "metadata": {},
   "outputs": [
    {
     "name": "stdout",
     "output_type": "stream",
     "text": [
      "\u001b[1m545/545\u001b[0m \u001b[32m━━━━━━━━━━━━━━━━━━━━\u001b[0m\u001b[37m\u001b[0m \u001b[1m15s\u001b[0m 28ms/step\n",
      "Confusion Matrix:\n",
      "[[8787  110]\n",
      " [ 125 8403]]\n"
     ]
    }
   ],
   "source": [
    "# Generate predictions\n",
    "y_pred = model.predict(X_test)\n",
    "y_pred_classes = np.argmax(y_pred, axis=1)\n",
    "y_true_classes = np.argmax(y_test, axis=1)\n",
    "\n",
    "# Confusion matrix and classification report\n",
    "from sklearn.metrics import confusion_matrix, classification_report\n",
    "\n",
    "conf_matrix = confusion_matrix(y_true_classes, y_pred_classes)\n",
    "print(\"Confusion Matrix:\")\n",
    "print(conf_matrix)\n"
   ]
  },
  {
   "cell_type": "code",
   "execution_count": 12,
   "metadata": {},
   "outputs": [
    {
     "name": "stdout",
     "output_type": "stream",
     "text": [
      "\u001b[1m545/545\u001b[0m \u001b[32m━━━━━━━━━━━━━━━━━━━━\u001b[0m\u001b[37m\u001b[0m \u001b[1m20s\u001b[0m 36ms/step - accuracy: 0.9865 - loss: 0.0420\n",
      "Test Loss: 0.0410\n",
      "Test Accuracy: 0.9865\n"
     ]
    }
   ],
   "source": [
    "# Evaluate the model on the test set\n",
    "test_loss, test_accuracy = model.evaluate(X_test, y_test)\n",
    "print(f\"Test Loss: {test_loss:.4f}\")\n",
    "print(f\"Test Accuracy: {test_accuracy:.4f}\")\n"
   ]
  },
  {
   "cell_type": "code",
   "execution_count": 13,
   "metadata": {},
   "outputs": [
    {
     "name": "stdout",
     "output_type": "stream",
     "text": [
      "\u001b[1m545/545\u001b[0m \u001b[32m━━━━━━━━━━━━━━━━━━━━\u001b[0m\u001b[37m\u001b[0m \u001b[1m15s\u001b[0m 27ms/step\n"
     ]
    }
   ],
   "source": [
    "# Get predictions\n",
    "y_pred_probs = model.predict(X_test)  # Probabilities\n",
    "y_pred = np.argmax(y_pred_probs, axis=1)  # Convert to class labels\n",
    "y_true = np.argmax(y_test, axis=1)  # Convert one-hot to class labels\n"
   ]
  },
  {
   "cell_type": "code",
   "execution_count": 14,
   "metadata": {},
   "outputs": [
    {
     "name": "stdout",
     "output_type": "stream",
     "text": [
      "              precision    recall  f1-score   support\n",
      "\n",
      "           0     0.9860    0.9876    0.9868      8897\n",
      "           1     0.9871    0.9853    0.9862      8528\n",
      "\n",
      "    accuracy                         0.9865     17425\n",
      "   macro avg     0.9865    0.9865    0.9865     17425\n",
      "weighted avg     0.9865    0.9865    0.9865     17425\n",
      "\n"
     ]
    }
   ],
   "source": [
    "from sklearn.metrics import classification_report\n",
    "\n",
    "# Print classification report\n",
    "print(classification_report(y_true, y_pred, digits=4))\n"
   ]
  },
  {
   "cell_type": "code",
   "execution_count": 16,
   "metadata": {},
   "outputs": [
    {
     "data": {
      "image/png": "[encoded data removed]",
      "text/plain": [
       "<Figure size 600x500 with 2 Axes>"
      ]
     },
     "metadata": {},
     "output_type": "display_data"
    }
   ],
   "source": [
    "from sklearn.metrics import confusion_matrix\n",
    "import seaborn as sns\n",
    "import matplotlib.pyplot as plt\n",
    "\n",
    "# Define class names (adjust based on your dataset)\n",
    "class_names = [\"Real\", \"Fake\"]\n",
    "\n",
    "# Compute confusion matrix\n",
    "conf_matrix = confusion_matrix(y_true, y_pred)\n",
    "\n",
    "# Plot confusion matrix with correct labels\n",
    "plt.figure(figsize=(6, 5))\n",
    "sns.heatmap(conf_matrix, annot=True, fmt='d', cmap='Blues', xticklabels=class_names, yticklabels=class_names)\n",
    "plt.xlabel('Predicted Labels')\n",
    "plt.ylabel('True Labels')\n",
    "plt.title('Confusion Matrix')\n",
    "plt.show()\n",
    "\n"
   ]
  },
  {
   "cell_type": "code",
   "execution_count": null,
   "metadata": {},
   "outputs": [],
   "source": []
  }
 ],
 "metadata": {
  "kaggle": {
   "accelerator": "nvidiaTeslaT4",
   "dataSources": [
    {
     "datasetId": 6670865,
     "sourceId": 10755329,
     "sourceType": "datasetVersion"
    },
    {
     "datasetId": 6671507,
     "sourceId": 10756217,
     "sourceType": "datasetVersion"
    }
   ],
   "dockerImageVersionId": 30887,
   "isGpuEnabled": true,
   "isInternetEnabled": true,
   "language": "python",
   "sourceType": "notebook"
  },
  "kernelspec": {
   "display_name": "Python 3",
   "language": "python",
   "name": "python3"
  },
  "language_info": {
   "codemirror_mode": {
    "name": "ipython",
    "version": 3
   },
   "file_extension": ".py",
   "mimetype": "text/x-python",
   "name": "python",
   "nbconvert_exporter": "python",
   "pygments_lexer": "ipython3",
   "version": "3.12.6"
  }
 },
 "nbformat": 4,
 "nbformat_minor": 4
}
